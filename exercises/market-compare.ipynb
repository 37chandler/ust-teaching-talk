{
 "cells": [
  {
   "cell_type": "markdown",
   "metadata": {},
   "source": [
    "## Market Comparisons\n",
    "\n",
    "This exercise builds on the ideas we explore in the class \"Cluster Analytsis for Feature Engineering\". Our goal in this exercise is to understand how building a pricing model for every single location for a specific car make/model changes the accuracy and coverage of the models. \n",
    "\n",
    "1. Pick a car make and model.\n",
    "1. For each location, build a pricing model for just that location. \n",
    "1. Calculate errors and coverage for your family of pricing models.\n",
    "1. Compare coverage and errors to a pricing model to a single pricing model across the entire country. \n",
    "\n",
    "**Note to UST Faculty**: Typically we would connect to GBQ for the data, but to ensure access the data can be reached via [this link](https://www.dropbox.com/t/H5lPzrmt29Oq1F5V). Download this zip and extract the contents into a folder called `data/` within the repository. \n",
    "\n",
    "---"
   ]
  },
  {
   "cell_type": "markdown",
   "metadata": {},
   "source": [
    "### Exercise Boilerplate\n",
    "\n",
    "#### Purpose of Exercises\n",
    "Exercises are a critical part of this class. While lectures and readings introduce concepts, exercises help you:\n",
    "- Develop practical implementation skills\n",
    "- Understand common pitfalls and debugging strategies\n",
    "- Build intuition through experimentation\n",
    "- Create a portfolio of working examples\n",
    "- Practice real-world data analysis workflows\n",
    "\n",
    "#### Using These Notebooks\n",
    "- **Dive Right In**: These exercises often reveal unexpected challenges\n",
    "- **Work Incrementally**: Test each step before moving forward\n",
    "- **Ask Questions**: Use class Teams for help, ask your instructor, ask classmates\n",
    "- **Compare Solutions**: Solutions are available to you in this folder\n",
    "- **Save Your Work**: Commit working versions to your repository\n",
    "\n",
    "#### Using AI Assistants\n",
    "AI coding assistants (ChatGPT, Claude, GitHub Copilot, etc.) are powerful tools that you'll use in your career. In this class:\n",
    "- ✅ Use AI to understand code snippets\n",
    "- ✅ Use AI to debug errors\n",
    "- ✅ Use AI to explore alternative approaches\n",
    "- ✅ Use AI to explain concepts\n",
    "- ❌ Don't just paste the whole exercise\n",
    "- ❌ Don't submit AI-generated code without understanding it\n",
    "\n",
    "Document your AI interactions in a comment block and include a link to your chat:\n",
    "```python\n",
    "# AI Interaction Log:\n",
    "# 1. Asked Claude to explain the difference between train_test_split and TimeSeriesSplit\n",
    "# 2. Used GitHub Copilot to help write data validation functions\n",
    "# 3. Had ChatGPT debug a pandas groupby error\n",
    "# 4. Chat logs are available here: https://chatgpt.com/c/671d1f08-1ebc-8011-a128-8a29255f24fe\n",
    "```\n",
    "\n",
    "#### Evaluation\n",
    "Exercises are not evaluated by your instructor. They are for your learning.\n",
    "\n",
    "\n",
    "### Setup\n",
    "Loading required libraries for our analysis. We'll use pandas for data handling, scikit-learn for modeling, and some visualization libraries.\n",
    "\n",
    "---"
   ]
  },
  {
   "cell_type": "code",
   "execution_count": 1,
   "metadata": {},
   "outputs": [],
   "source": [
    "# Imports for this exercise\n",
    "import pandas as pd\n",
    "import numpy as np\n",
    "from sklearn.metrics import root_mean_squared_error, mean_absolute_error, r2_score\n",
    "import matplotlib.pyplot as plt\n",
    "import seaborn as sns\n",
    "from sklearn.linear_model import LinearRegression\n",
    "\n",
    "\n",
    "# For my solution\n",
    "from IPython.display import display, Markdown\n"
   ]
  },
  {
   "cell_type": "markdown",
   "metadata": {},
   "source": [
    "### Helper Functions\n",
    "These functions handle the core operations we'll need: loading data, creating features, filtering data, and evaluating models."
   ]
  },
  {
   "cell_type": "code",
   "execution_count": 15,
   "metadata": {},
   "outputs": [],
   "source": [
    "# Load and prepare data\n",
    "def load_data():\n",
    "    \"\"\"Load car listing data and do initial filtering\"\"\"\n",
    "    listings = pd.read_csv('../data/processed_listing_pages.csv')\n",
    "    listings['age'] = 2024 - listings['year']\n",
    "    return listings\n",
    "\n",
    "# Get the model features \n",
    "def get_features(data):\n",
    "    \"\"\"Create feature matrix for modeling\"\"\"\n",
    "    return pd.DataFrame({\n",
    "        'age': data['age'],\n",
    "        'log_odometer': data['log_odometer'],\n",
    "        'age_miles': data['age'] * data['log_odometer'],\n",
    "        'condition_mapped': data['condition_mapped']\n",
    "    })\n",
    "\n",
    "def filter_data(data, make, model, location=None):\n",
    "    \"\"\"Filter data for specific make/model and optional location\"\"\"\n",
    "    mask = (data['make'] == make) & (data['model'] == model)\n",
    "    if location:\n",
    "        mask = mask & (data['location'] == location)\n",
    "    return data[mask].copy()\n",
    "\n",
    "def create_model(X, y):\n",
    "    \"\"\"Create and fit a linear regression model\"\"\"\n",
    "    # TODO: Create and fit model\n",
    "    return None\n",
    "\n",
    "def evaluate_model(model, X, y):\n",
    "    \"\"\"Calculate model performance metrics\"\"\"\n",
    "    # TODO: Calculate rmse, mae, and r2 and return as a dictionary\n",
    "    return None\n",
    "\n",
    "# For my solution\n",
    "# Function to create a markdown table from metrics\n",
    "def create_markdown_table(metrics, title):\n",
    "  table = f\"### {title}\\n\\n\"\n",
    "  table += \"| Metric | Value |\\n\"\n",
    "  table += \"|--------|-------|\\n\"\n",
    "  for key, value in metrics.items():\n",
    "    table += f\"| {key.upper()} | {value:.2f} |\\n\"\n",
    "  return table\n",
    "\n"
   ]
  },
  {
   "cell_type": "markdown",
   "metadata": {},
   "source": [
    "### Load Data\n",
    "First, let's load our car listing data."
   ]
  },
  {
   "cell_type": "code",
   "execution_count": 3,
   "metadata": {},
   "outputs": [],
   "source": [
    "listing_data = load_data()"
   ]
  },
  {
   "cell_type": "code",
   "execution_count": null,
   "metadata": {},
   "outputs": [],
   "source": [
    "# TODO: Select a make/model combination based on your exploration\n",
    "# HINT: Choose one with at least 50 listings in multiple markets\n",
    "make = None\n",
    "model_name = None\n",
    "location = None  # Start with a market you're familiar with"
   ]
  },
  {
   "cell_type": "markdown",
   "metadata": {},
   "source": [
    "### Build National Model\n",
    "Create a baseline model using all national data for this make/model."
   ]
  },
  {
   "cell_type": "code",
   "execution_count": 4,
   "metadata": {},
   "outputs": [],
   "source": [
    "# TODO: Build a national model for your chosen make/model\n",
    "# 1. Filter the data\n",
    "# 2. Create feature matrix\n",
    "# 3. Fit the model"
   ]
  },
  {
   "cell_type": "markdown",
   "metadata": {},
   "source": [
    "### Build Local Model\n",
    "Create a model specific to our chosen location to compare against the national model."
   ]
  },
  {
   "cell_type": "code",
   "execution_count": 5,
   "metadata": {},
   "outputs": [],
   "source": [
    "# TODO: Build a local model for your chosen location\n",
    "# 1. Filter for just your location\n",
    "# 2. Create feature matrix\n",
    "# 3. Fit the model\n",
    "# QUESTION: How many observations do you have? Is this enough?"
   ]
  },
  {
   "cell_type": "markdown",
   "metadata": {},
   "source": [
    "### Compare Models\n",
    "Calculate improvement metrics to see how much the local model improves upon the national model.\n",
    "\n",
    "#### Analysis Questions\n",
    "Before comparing the models, consider:\n",
    "- What RMSE would you consider \"good\" for this market?\n",
    "- How much improvement would make local models worthwhile?\n",
    "- What's the tradeoff between coverage and accuracy?"
   ]
  },
  {
   "cell_type": "code",
   "execution_count": null,
   "metadata": {},
   "outputs": [],
   "source": [
    "# TODO: Compare your models\n",
    "# 1. Calculate metrics for both models\n",
    "# 2. Calculate improvements\n",
    "# 3. Consider: Is the improvement worth the complexity?"
   ]
  }
 ],
 "metadata": {
  "kernelspec": {
   "display_name": "base",
   "language": "python",
   "name": "python3"
  },
  "language_info": {
   "codemirror_mode": {
    "name": "ipython",
    "version": 3
   },
   "file_extension": ".py",
   "mimetype": "text/x-python",
   "name": "python",
   "nbconvert_exporter": "python",
   "pygments_lexer": "ipython3",
   "version": "3.11.7"
  }
 },
 "nbformat": 4,
 "nbformat_minor": 2
}
