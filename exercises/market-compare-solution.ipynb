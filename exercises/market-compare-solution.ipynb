{
 "cells": [
  {
   "cell_type": "markdown",
   "metadata": {},
   "source": [
    "## Market Comparisons\n",
    "\n",
    "This exercise builds on the ideas we explore in the class \"Cluster Analytsis for Feature Engineering\". Our goal in this exercise is to understand how building a pricing model for every single location for a specific car make/model changes the accuracy and coverage of the models. \n",
    "\n",
    "1. Pick a car make and model.\n",
    "1. For each location, build a pricing model for just that location. \n",
    "1. Calculate errors and coverage for your family of pricing models.\n",
    "1. Compare coverage and errors to a pricing model to a single pricing model across the entire country. \n",
    "\n",
    "**Note to UST Faculty**: Typically we would connect to GBQ for the data, but to ensure access the data can be reached via [this link](dropbox transfer TK). Download this zip and extract the contents into a folder called `data/` within the repository. \n",
    "\n",
    "---"
   ]
  },
  {
   "cell_type": "markdown",
   "metadata": {},
   "source": [
    "### Exercise Boilerplate\n",
    "\n",
    "#### Purpose of Exercises\n",
    "Exercises are a critical part of this class. While lectures and readings introduce concepts, exercises help you:\n",
    "- Develop practical implementation skills\n",
    "- Understand common pitfalls and debugging strategies\n",
    "- Build intuition through experimentation\n",
    "- Create a portfolio of working examples\n",
    "- Practice real-world data analysis workflows\n",
    "\n",
    "#### Using These Notebooks\n",
    "- **Dive Right In**: These exercises often reveal unexpected challenges\n",
    "- **Work Incrementally**: Test each step before moving forward\n",
    "- **Ask Questions**: Use class Teams for help, ask your instructor, ask classmates\n",
    "- **Compare Solutions**: Solutions are available to you in this folder\n",
    "- **Save Your Work**: Commit working versions to your repository\n",
    "\n",
    "#### Using AI Assistants\n",
    "AI coding assistants (ChatGPT, Claude, GitHub Copilot, etc.) are powerful tools that you'll use in your career. In this class:\n",
    "- ✅ Use AI to understand code snippets\n",
    "- ✅ Use AI to debug errors\n",
    "- ✅ Use AI to explore alternative approaches\n",
    "- ✅ Use AI to explain concepts\n",
    "- ❌ Don't just paste the whole exercise\n",
    "- ❌ Don't submit AI-generated code without understanding it\n",
    "\n",
    "Document your AI interactions in a comment block and include a link to your chat:\n",
    "```python\n",
    "# AI Interaction Log:\n",
    "# 1. Asked Claude to explain the difference between train_test_split and TimeSeriesSplit\n",
    "# 2. Used GitHub Copilot to help write data validation functions\n",
    "# 3. Had ChatGPT debug a pandas groupby error\n",
    "# 4. Chat logs are available here: https://chatgpt.com/c/671d1f08-1ebc-8011-a128-8a29255f24fe\n",
    "```\n",
    "\n",
    "#### Evaluation\n",
    "Exercises are not evaluated by your instructor. They are for your learning.\n",
    "\n",
    "\n",
    "### Setup\n",
    "Loading required libraries for our analysis. We'll use pandas for data handling, scikit-learn for modeling, and some visualization libraries.\n",
    "\n",
    "---"
   ]
  },
  {
   "cell_type": "code",
   "execution_count": 1,
   "metadata": {},
   "outputs": [],
   "source": [
    "# Imports for this exercise\n",
    "import pandas as pd\n",
    "import numpy as np\n",
    "from sklearn.metrics import root_mean_squared_error, mean_absolute_error, r2_score\n",
    "import matplotlib.pyplot as plt\n",
    "import seaborn as sns\n",
    "from sklearn.linear_model import LinearRegression\n",
    "\n",
    "\n",
    "# For my solution\n",
    "from IPython.display import display, Markdown\n"
   ]
  },
  {
   "cell_type": "markdown",
   "metadata": {},
   "source": [
    "### Helper Functions\n",
    "These functions handle the core operations we'll need: loading data, creating features, filtering data, and evaluating models."
   ]
  },
  {
   "cell_type": "code",
   "execution_count": 2,
   "metadata": {},
   "outputs": [],
   "source": [
    "# Load and prepare data\n",
    "def load_data():\n",
    "    \"\"\"Load car listing data and do initial filtering\"\"\"\n",
    "    listings = pd.read_csv('../data/processed_listing_pages.csv')\n",
    "    listings['age'] = 2024 - listings['year']\n",
    "    return listings\n",
    "\n",
    "# Get the model features \n",
    "def get_features(data):\n",
    "    \"\"\"Create feature matrix for modeling\"\"\"\n",
    "    return pd.DataFrame({\n",
    "        'age': data['age'],\n",
    "        'log_odometer': data['log_odometer'],\n",
    "        'age_miles': data['age'] * data['log_odometer'],\n",
    "        'condition_mapped': data['condition_mapped']\n",
    "    })\n",
    "\n",
    "def filter_data(data, make, model, location=None):\n",
    "    \"\"\"Filter data for specific make/model and optional location\"\"\"\n",
    "    mask = (data['make'] == make) & (data['model'] == model)\n",
    "    if location:\n",
    "        mask = mask & (data['location'] == location)\n",
    "    return data[mask].copy()\n",
    "\n",
    "def create_model(X, y):\n",
    "    \"\"\"Create and fit a linear regression model\"\"\"\n",
    "    model = LinearRegression()\n",
    "    model.fit(X, y)\n",
    "    return model\n",
    "\n",
    "def evaluate_model(model, X, y):\n",
    "    \"\"\"Calculate model performance metrics\"\"\"\n",
    "    pred = model.predict(X)\n",
    "    return {\n",
    "        'rmse': root_mean_squared_error(y, pred),\n",
    "        'mae': mean_absolute_error(y, pred),\n",
    "        'r2': r2_score(y, pred)\n",
    "    }\n",
    "\n",
    "# For my solution\n",
    "# Function to create a markdown table from metrics\n",
    "def create_markdown_table(metrics, title):\n",
    "  table = f\"### {title}\\n\\n\"\n",
    "  table += \"| Metric | Value |\\n\"\n",
    "  table += \"|--------|-------|\\n\"\n",
    "  for key, value in metrics.items():\n",
    "    table += f\"| {key.upper()} | {value:.2f} |\\n\"\n",
    "  return table\n",
    "\n"
   ]
  },
  {
   "cell_type": "markdown",
   "metadata": {},
   "source": [
    "### Load Data\n",
    "First, let's load our car listing data."
   ]
  },
  {
   "cell_type": "code",
   "execution_count": 3,
   "metadata": {},
   "outputs": [],
   "source": [
    "listing_data = load_data()"
   ]
  },
  {
   "cell_type": "code",
   "execution_count": 4,
   "metadata": {},
   "outputs": [],
   "source": [
    "# Select your make and model\n",
    "\n",
    "make = 'nissan'\n",
    "model_name = 'altima'\n",
    "location = 'sfbay'"
   ]
  },
  {
   "cell_type": "markdown",
   "metadata": {},
   "source": [
    "### Build National Model\n",
    "Create a baseline model using all national data for this make/model."
   ]
  },
  {
   "cell_type": "code",
   "execution_count": 5,
   "metadata": {},
   "outputs": [],
   "source": [
    "national_data = filter_data(listing_data, make, model_name)\n",
    "X_national = get_features(national_data)\n",
    "y_national = national_data['price']\n",
    "national_model = create_model(X_national, y_national)"
   ]
  },
  {
   "cell_type": "markdown",
   "metadata": {},
   "source": [
    "### Build Local Model\n",
    "Create a model specific to our chosen location to compare against the national model."
   ]
  },
  {
   "cell_type": "code",
   "execution_count": 6,
   "metadata": {},
   "outputs": [],
   "source": [
    "local_data = filter_data(listing_data, make, model_name, location)\n",
    "X_local = get_features(local_data)\n",
    "y_local = local_data['price']\n",
    "local_model = create_model(X_local, y_local)"
   ]
  },
  {
   "cell_type": "markdown",
   "metadata": {},
   "source": [
    "### Compare Models\n",
    "Calculate improvement metrics to see how much the local model improves upon the national model."
   ]
  },
  {
   "cell_type": "code",
   "execution_count": 7,
   "metadata": {},
   "outputs": [
    {
     "name": "stdout",
     "output_type": "stream",
     "text": [
      "Location: sfbay\n",
      "Sample size: 631\n",
      "RMSE Improvement: 10.3%\n",
      "MAE Improvement: 12.6%\n"
     ]
    }
   ],
   "source": [
    "national_metrics = evaluate_model(national_model, X_local, y_local)\n",
    "local_metrics = evaluate_model(local_model, X_local, y_local)\n",
    "rmse_improvement = (national_metrics['rmse'] - local_metrics['rmse']) / national_metrics['rmse'] * 100\n",
    "mae_improvement = 100 * (national_metrics['mae'] - local_metrics['mae']) / national_metrics['mae']\n",
    "\n",
    "print(f\"Location: {location}\")\n",
    "print(f\"Sample size: {len(local_data)}\")\n",
    "print(f\"RMSE Improvement: {rmse_improvement:.1f}%\")\n",
    "print(f\"MAE Improvement: {mae_improvement:.1f}%\")"
   ]
  },
  {
   "cell_type": "code",
   "execution_count": 8,
   "metadata": {},
   "outputs": [
    {
     "data": {
      "text/markdown": [
       "### National Metrics\n",
       "\n",
       "| Metric | Value |\n",
       "|--------|-------|\n",
       "| RMSE | 1416.95 |\n",
       "| MAE | 1025.28 |\n",
       "| R2 | 0.82 |\n"
      ],
      "text/plain": [
       "<IPython.core.display.Markdown object>"
      ]
     },
     "metadata": {},
     "output_type": "display_data"
    },
    {
     "data": {
      "text/markdown": [
       "### Local Metrics\n",
       "\n",
       "| Metric | Value |\n",
       "|--------|-------|\n",
       "| RMSE | 1271.07 |\n",
       "| MAE | 896.02 |\n",
       "| R2 | 0.86 |\n"
      ],
      "text/plain": [
       "<IPython.core.display.Markdown object>"
      ]
     },
     "metadata": {},
     "output_type": "display_data"
    }
   ],
   "source": [
    "\n",
    "national_table = create_markdown_table(national_metrics, \"National Metrics\")\n",
    "local_table = create_markdown_table(local_metrics, \"Local Metrics\")\n",
    "\n",
    "# Display markdown tables\n",
    "display(Markdown(national_table))\n",
    "display(Markdown(local_table))\n"
   ]
  }
 ],
 "metadata": {
  "kernelspec": {
   "display_name": "base",
   "language": "python",
   "name": "python3"
  },
  "language_info": {
   "codemirror_mode": {
    "name": "ipython",
    "version": 3
   },
   "file_extension": ".py",
   "mimetype": "text/x-python",
   "name": "python",
   "nbconvert_exporter": "python",
   "pygments_lexer": "ipython3",
   "version": "3.11.7"
  }
 },
 "nbformat": 4,
 "nbformat_minor": 2
}
